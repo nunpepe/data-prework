{
 "cells": [
  {
   "cell_type": "markdown",
   "metadata": {},
   "source": [
    "<img src=\"https://bit.ly/2VnXWr2\" width=\"100\" align=\"left\">"
   ]
  },
  {
   "cell_type": "markdown",
   "metadata": {},
   "source": [
    "# Bus\n",
    "\n",
    "This bus has a passenger entry and exit control system to monitor the number of occupants it carries and thus detect when there are too many.\n",
    "\n",
    "At each stop, the entry and exit of passengers is represented by a tuple consisting of two integer numbers.\n",
    "```\n",
    "bus_stop = (in, out)\n",
    "```\n",
    "The succession of stops is represented by a list of these tuples.\n",
    "```\n",
    "stops = [(in1, out1), (in2, out2), (in3, out3), (in4, out4)]\n",
    "```\n",
    "\n",
    "## Tools\n",
    "You don't necessarily need to use all the tools. Maybe you opt to use some of them or completely different ones, they are given to help you shape the exercise. Programming exercises can be solved in many different ways.\n",
    "* Data structures: **lists, tuples**\n",
    "* Loop: **while/for loops**\n",
    "* Functions: **min, max, len**\n",
    "\n",
    "## Tasks"
   ]
  },
  {
   "cell_type": "code",
   "execution_count": 9,
   "metadata": {},
   "outputs": [],
   "source": [
    "# Variables\n",
    "stops = [(10, 0), (4, 1), (3, 5), (3, 4), (5, 1), (1, 5), (5, 8), (4, 6), (2, 3)]"
   ]
  },
  {
   "cell_type": "markdown",
   "metadata": {},
   "source": [
    "#### 1. Calculate the number of stops."
   ]
  },
  {
   "cell_type": "code",
   "execution_count": 10,
   "metadata": {},
   "outputs": [
    {
     "name": "stdout",
     "output_type": "stream",
     "text": [
      "9\n"
     ]
    }
   ],
   "source": [
    "stops_number = len(stops)\n",
    "print(stops_number)"
   ]
  },
  {
   "cell_type": "markdown",
   "metadata": {},
   "source": [
    "#### 2. Assign to a variable a list whose elements are the number of passengers at each stop (in-out).\n",
    "Each item depends on the previous item in the list + in - out."
   ]
  },
  {
   "cell_type": "code",
   "execution_count": 11,
   "metadata": {},
   "outputs": [
    {
     "name": "stdout",
     "output_type": "stream",
     "text": [
      "[10, 3, -2, -1, 4, -4, -3, -2, -1]\n"
     ]
    }
   ],
   "source": [
    "stops_passangers = []\n",
    "stop = 0\n",
    "\n",
    "for stop in range(len(stops)):\n",
    "    passangers_count = stops[stop][0] - stops[stop][1]\n",
    "    stops_passangers.append(passangers_count)\n",
    "\n",
    "print(stops_passangers)"
   ]
  },
  {
   "cell_type": "markdown",
   "metadata": {},
   "source": [
    "#### 3. Find the maximum occupation of the bus."
   ]
  },
  {
   "cell_type": "code",
   "execution_count": 19,
   "metadata": {},
   "outputs": [
    {
     "name": "stdout",
     "output_type": "stream",
     "text": [
      "14\n"
     ]
    }
   ],
   "source": [
    "occupation = 0\n",
    "occupation_list = []\n",
    "max_occupation = 0\n",
    "stop = 0\n",
    "\n",
    "for stop in range(len(stops)):\n",
    "    occupation += stops_passangers[stop]\n",
    "    occupation_list.append(occupation)\n",
    "    if occupation >= max_occupation:\n",
    "        max_occupation = occupation\n",
    "\n",
    "print(max_occupation)"
   ]
  },
  {
   "cell_type": "markdown",
   "metadata": {},
   "source": [
    "#### 4. Calculate the average occupation. And the standard deviation."
   ]
  },
  {
   "cell_type": "code",
   "execution_count": 21,
   "metadata": {},
   "outputs": [
    {
     "name": "stdout",
     "output_type": "stream",
     "text": [
      "Average 9.333333333333334\n",
      "Occupation Standard deviation is 5.333333333333334\n"
     ]
    }
   ],
   "source": [
    "# Average occupation\n",
    "average_occupation = sum(occupation_list) / len(occupation_list)\n",
    "print(\"Average\", average_occupation)\n",
    "\n",
    "# New lists\n",
    "square_dif = []\n",
    "\n",
    "# Standard deviation\n",
    "# 1. Find the square difference                   \n",
    "stops = 0\n",
    "for stops in range(len(occupation_list)):\n",
    "    occupation_list_square = (occupation_list[stop] - average_occupation)**2\n",
    "    square_dif.append(occupation_list_square)\n",
    "\n",
    "# 3. Math for square diference mean                     \n",
    "square_dif_mean = (sum(square_dif) / len(square_dif))\n",
    "\n",
    "# 4. Take the square root\n",
    "occupation_sd = (square_dif_mean)**0.5\n",
    "\n",
    "print(\"Occupation Standard deviation is\", occupation_sd)"
   ]
  }
 ],
 "metadata": {
  "kernelspec": {
   "display_name": "Python 3",
   "language": "python",
   "name": "python3"
  },
  "language_info": {
   "codemirror_mode": {
    "name": "ipython",
    "version": 3
   },
   "file_extension": ".py",
   "mimetype": "text/x-python",
   "name": "python",
   "nbconvert_exporter": "python",
   "pygments_lexer": "ipython3",
   "version": "3.8.2"
  }
 },
 "nbformat": 4,
 "nbformat_minor": 2
}
